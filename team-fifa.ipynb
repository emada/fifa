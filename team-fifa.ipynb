{
 "cells": [
  {
   "cell_type": "markdown",
   "metadata": {},
   "source": [
    "# Team FIFA\n",
    "\n",
    "---\n",
    "\n",
    "You are working for an advertising analytics consulting company.  Your client, a name brand television network, needs help deciding how to re-formulate the pricing structure for new customers, but also incentivize existing clients to convert to new partnerships sponsors for teams and players.\n",
    "\n",
    "**Goals:**\n",
    "- Determine a reasonable metric to decide how exciting a game is\n",
    "    - Engineer this feature using existing data\n",
    "- Suggest a pricing structure tied to the overall value associated with \"game excitement\"\n",
    "\n",
    "**Presentation requirements:**\n",
    "- At least 50% of presentation must address a non-technical audience\n",
    "- Someone who hasn't presented in class yet must take lead on presentation"
   ]
  },
  {
   "cell_type": "code",
   "execution_count": 1,
   "metadata": {
    "collapsed": true
   },
   "outputs": [],
   "source": [
    "import pandas as pd\n",
    "import numpy as np\n",
    "import seaborn as sns\n",
    "\n",
    "%matplotlib inline\n",
    "\n",
    "df = pd.read_csv(\"./datasets/fifa_goals.csv\", encoding='utf-8')"
   ]
  },
  {
   "cell_type": "code",
   "execution_count": 133,
   "metadata": {
    "collapsed": false
   },
   "outputs": [
    {
     "data": {
      "text/html": [
       "<div>\n",
       "<table border=\"1\" class=\"dataframe\">\n",
       "  <thead>\n",
       "    <tr style=\"text-align: right;\">\n",
       "      <th></th>\n",
       "      <th>minute</th>\n",
       "      <th>player</th>\n",
       "      <th>team1score</th>\n",
       "      <th>team2score</th>\n",
       "    </tr>\n",
       "    <tr>\n",
       "      <th>game_id</th>\n",
       "      <th></th>\n",
       "      <th></th>\n",
       "      <th></th>\n",
       "      <th></th>\n",
       "    </tr>\n",
       "  </thead>\n",
       "  <tbody>\n",
       "    <tr>\n",
       "      <th>1</th>\n",
       "      <td>18</td>\n",
       "      <td>Schiavio</td>\n",
       "      <td>1</td>\n",
       "      <td>0</td>\n",
       "    </tr>\n",
       "    <tr>\n",
       "      <th>1</th>\n",
       "      <td>20</td>\n",
       "      <td>Orsi</td>\n",
       "      <td>2</td>\n",
       "      <td>0</td>\n",
       "    </tr>\n",
       "    <tr>\n",
       "      <th>1</th>\n",
       "      <td>29</td>\n",
       "      <td>Schiavio</td>\n",
       "      <td>3</td>\n",
       "      <td>0</td>\n",
       "    </tr>\n",
       "    <tr>\n",
       "      <th>1</th>\n",
       "      <td>57</td>\n",
       "      <td>Donelli</td>\n",
       "      <td>3</td>\n",
       "      <td>1</td>\n",
       "    </tr>\n",
       "    <tr>\n",
       "      <th>1</th>\n",
       "      <td>63</td>\n",
       "      <td>Ferrari</td>\n",
       "      <td>4</td>\n",
       "      <td>1</td>\n",
       "    </tr>\n",
       "  </tbody>\n",
       "</table>\n",
       "</div>"
      ],
      "text/plain": [
       "        minute    player  team1score  team2score\n",
       "game_id                                         \n",
       "1           18  Schiavio           1           0\n",
       "1           20      Orsi           2           0\n",
       "1           29  Schiavio           3           0\n",
       "1           57   Donelli           3           1\n",
       "1           63   Ferrari           4           1"
      ]
     },
     "execution_count": 133,
     "metadata": {},
     "output_type": "execute_result"
    }
   ],
   "source": [
    "df.head()"
   ]
  },
  {
   "cell_type": "code",
   "execution_count": 134,
   "metadata": {
    "collapsed": false
   },
   "outputs": [
    {
     "data": {
      "text/html": [
       "<div>\n",
       "<table border=\"1\" class=\"dataframe\">\n",
       "  <thead>\n",
       "    <tr style=\"text-align: right;\">\n",
       "      <th></th>\n",
       "      <th>team1score</th>\n",
       "      <th>team2score</th>\n",
       "    </tr>\n",
       "  </thead>\n",
       "  <tbody>\n",
       "    <tr>\n",
       "      <th>count</th>\n",
       "      <td>2207.000000</td>\n",
       "      <td>2207.000000</td>\n",
       "    </tr>\n",
       "    <tr>\n",
       "      <th>mean</th>\n",
       "      <td>1.754418</td>\n",
       "      <td>0.849570</td>\n",
       "    </tr>\n",
       "    <tr>\n",
       "      <th>std</th>\n",
       "      <td>1.486246</td>\n",
       "      <td>0.914291</td>\n",
       "    </tr>\n",
       "    <tr>\n",
       "      <th>min</th>\n",
       "      <td>0.000000</td>\n",
       "      <td>0.000000</td>\n",
       "    </tr>\n",
       "    <tr>\n",
       "      <th>25%</th>\n",
       "      <td>1.000000</td>\n",
       "      <td>0.000000</td>\n",
       "    </tr>\n",
       "    <tr>\n",
       "      <th>50%</th>\n",
       "      <td>1.000000</td>\n",
       "      <td>1.000000</td>\n",
       "    </tr>\n",
       "    <tr>\n",
       "      <th>75%</th>\n",
       "      <td>2.000000</td>\n",
       "      <td>1.000000</td>\n",
       "    </tr>\n",
       "    <tr>\n",
       "      <th>max</th>\n",
       "      <td>9.000000</td>\n",
       "      <td>7.000000</td>\n",
       "    </tr>\n",
       "  </tbody>\n",
       "</table>\n",
       "</div>"
      ],
      "text/plain": [
       "        team1score   team2score\n",
       "count  2207.000000  2207.000000\n",
       "mean      1.754418     0.849570\n",
       "std       1.486246     0.914291\n",
       "min       0.000000     0.000000\n",
       "25%       1.000000     0.000000\n",
       "50%       1.000000     1.000000\n",
       "75%       2.000000     1.000000\n",
       "max       9.000000     7.000000"
      ]
     },
     "execution_count": 134,
     "metadata": {},
     "output_type": "execute_result"
    }
   ],
   "source": [
    "df.describe()"
   ]
  },
  {
   "cell_type": "code",
   "execution_count": 5,
   "metadata": {
    "collapsed": false
   },
   "outputs": [
    {
     "name": "stdout",
     "output_type": "stream",
     "text": [
      "<class 'pandas.core.frame.DataFrame'>\n",
      "RangeIndex: 2207 entries, 0 to 2206\n",
      "Data columns (total 5 columns):\n",
      "game_id       2207 non-null int64\n",
      "minute        2207 non-null object\n",
      "player        2207 non-null object\n",
      "team1score    2207 non-null int64\n",
      "team2score    2207 non-null int64\n",
      "dtypes: int64(3), object(2)\n",
      "memory usage: 86.3+ KB\n"
     ]
    }
   ],
   "source": [
    "# df.info()"
   ]
  },
  {
   "cell_type": "code",
   "execution_count": 19,
   "metadata": {
    "collapsed": false
   },
   "outputs": [],
   "source": [
    "if df.minute.dtype != 'int64':\n",
    "    df.loc[df.minute == '45+', 'minute'] = 45\n",
    "    df.loc[df.minute == '90+', 'minute'] = 90\n",
    "    df.loc[df.minute == '120+', 'minute'] = 121\n",
    "    df.minute = pd.to_numeric(df.minute)\n",
    "\n",
    "df['half'] = [1 if m <= 45 else 2 if m > 45 and m <= 90 else 3 for m in df.minute]\n",
    "df['minute_half'] = df.minute - (df.half - 1) * 45"
   ]
  },
  {
   "cell_type": "code",
   "execution_count": 20,
   "metadata": {
    "collapsed": false
   },
   "outputs": [],
   "source": [
    "# goal diff lower higher ecxintnig\n",
    "# higher goals higher exciting\n",
    "# higher the minute higher exicting\n",
    "# total goals\n",
    "df['goal_diff'] = np.abs(df.team1score - df.team2score)\n",
    "df['excitement_per_goal'] =  np.exp(df.minute_half/45) / (df.goal_diff + 1) * df.half\n",
    "# df.excitement_per_goal.groupby(df.game_id).sum().sort_values(ascending=False).head()\n",
    "df_exct = df.groupby(df.game_id)\n",
    "df_exct_total = df_exct.exciting_per_goal.sum()"
   ]
  },
  {
   "cell_type": "code",
   "execution_count": 21,
   "metadata": {
    "collapsed": false
   },
   "outputs": [
    {
     "data": {
      "text/plain": [
       "<matplotlib.axes._subplots.AxesSubplot at 0x11f01f310>"
      ]
     },
     "execution_count": 21,
     "metadata": {},
     "output_type": "execute_result"
    },
    {
     "data": {
      "image/png": "[encoded data removed]",
      "text/plain": [
       "<matplotlib.figure.Figure at 0x11f01fa90>"
      ]
     },
     "metadata": {},
     "output_type": "display_data"
    }
   ],
   "source": [
    "sns.distplot(df_exct_total)"
   ]
  },
  {
   "cell_type": "code",
   "execution_count": 22,
   "metadata": {
    "collapsed": false
   },
   "outputs": [],
   "source": [
    "best_goals_ids = df_exct.excitement_per_goal.sum().sort_values(ascending=False).index"
   ]
  },
  {
   "cell_type": "code",
   "execution_count": 25,
   "metadata": {
    "collapsed": false
   },
   "outputs": [
    {
     "data": {
      "text/html": [
       "<div>\n",
       "<table border=\"1\" class=\"dataframe\">\n",
       "  <thead>\n",
       "    <tr style=\"text-align: right;\">\n",
       "      <th></th>\n",
       "      <th>team1score</th>\n",
       "      <th>team2score</th>\n",
       "      <th>minute</th>\n",
       "      <th>excitement_per_goal</th>\n",
       "    </tr>\n",
       "  </thead>\n",
       "  <tbody>\n",
       "    <tr>\n",
       "      <th>654</th>\n",
       "      <td>1</td>\n",
       "      <td>0</td>\n",
       "      <td>18</td>\n",
       "      <td>0.745912</td>\n",
       "    </tr>\n",
       "    <tr>\n",
       "      <th>655</th>\n",
       "      <td>1</td>\n",
       "      <td>1</td>\n",
       "      <td>23</td>\n",
       "      <td>1.667143</td>\n",
       "    </tr>\n",
       "    <tr>\n",
       "      <th>656</th>\n",
       "      <td>2</td>\n",
       "      <td>1</td>\n",
       "      <td>25</td>\n",
       "      <td>0.871454</td>\n",
       "    </tr>\n",
       "    <tr>\n",
       "      <th>657</th>\n",
       "      <td>3</td>\n",
       "      <td>1</td>\n",
       "      <td>44</td>\n",
       "      <td>0.886181</td>\n",
       "    </tr>\n",
       "    <tr>\n",
       "      <th>658</th>\n",
       "      <td>3</td>\n",
       "      <td>2</td>\n",
       "      <td>53</td>\n",
       "      <td>1.194560</td>\n",
       "    </tr>\n",
       "    <tr>\n",
       "      <th>659</th>\n",
       "      <td>3</td>\n",
       "      <td>3</td>\n",
       "      <td>59</td>\n",
       "      <td>2.729882</td>\n",
       "    </tr>\n",
       "    <tr>\n",
       "      <th>660</th>\n",
       "      <td>4</td>\n",
       "      <td>3</td>\n",
       "      <td>71</td>\n",
       "      <td>1.782074</td>\n",
       "    </tr>\n",
       "    <tr>\n",
       "      <th>661</th>\n",
       "      <td>4</td>\n",
       "      <td>4</td>\n",
       "      <td>89</td>\n",
       "      <td>5.317084</td>\n",
       "    </tr>\n",
       "    <tr>\n",
       "      <th>662</th>\n",
       "      <td>5</td>\n",
       "      <td>4</td>\n",
       "      <td>93</td>\n",
       "      <td>1.603409</td>\n",
       "    </tr>\n",
       "    <tr>\n",
       "      <th>663</th>\n",
       "      <td>6</td>\n",
       "      <td>4</td>\n",
       "      <td>104</td>\n",
       "      <td>1.364941</td>\n",
       "    </tr>\n",
       "    <tr>\n",
       "      <th>664</th>\n",
       "      <td>6</td>\n",
       "      <td>5</td>\n",
       "      <td>118</td>\n",
       "      <td>2.794595</td>\n",
       "    </tr>\n",
       "  </tbody>\n",
       "</table>\n",
       "</div>"
      ],
      "text/plain": [
       "     team1score  team2score  minute  excitement_per_goal\n",
       "654           1           0      18             0.745912\n",
       "655           1           1      23             1.667143\n",
       "656           2           1      25             0.871454\n",
       "657           3           1      44             0.886181\n",
       "658           3           2      53             1.194560\n",
       "659           3           3      59             2.729882\n",
       "660           4           3      71             1.782074\n",
       "661           4           4      89             5.317084\n",
       "662           5           4      93             1.603409\n",
       "663           6           4     104             1.364941\n",
       "664           6           5     118             2.794595"
      ]
     },
     "execution_count": 25,
     "metadata": {},
     "output_type": "execute_result"
    }
   ],
   "source": [
    "df[df.game_id == best_goals_ids[0]][['team1score', 'team2score', 'minute', 'excitement_per_goal']]"
   ]
  },
  {
   "cell_type": "code",
   "execution_count": 24,
   "metadata": {
    "collapsed": false
   },
   "outputs": [
    {
     "data": {
      "text/plain": [
       "player\n",
       "MÃ¼ller       27.352201\n",
       "Seeler        19.285283\n",
       "Fontaine      16.720669\n",
       "Ronaldo       16.536395\n",
       "Rahn          16.184527\n",
       "Klose         15.139057\n",
       "Klinsmann     13.885234\n",
       "LeÃ´nidas     13.020483\n",
       "HernÃ¡ndez    12.686314\n",
       "Lato          12.581007\n",
       "Name: excitement_per_goal, dtype: float64"
      ]
     },
     "execution_count": 24,
     "metadata": {},
     "output_type": "execute_result"
    }
   ],
   "source": [
    "df.groupby(df.player).excitement_per_goal.sum().sort_values(ascending=False).head(10)"
   ]
  },
  {
   "cell_type": "code",
   "execution_count": null,
   "metadata": {
    "collapsed": true
   },
   "outputs": [],
   "source": []
  }
 ],
 "metadata": {
  "kernelspec": {
   "display_name": "Python 2",
   "language": "python",
   "name": "python2"
  },
  "language_info": {
   "codemirror_mode": {
    "name": "ipython",
    "version": 2
   },
   "file_extension": ".py",
   "mimetype": "text/x-python",
   "name": "python",
   "nbconvert_exporter": "python",
   "pygments_lexer": "ipython2",
   "version": "2.7.13"
  }
 },
 "nbformat": 4,
 "nbformat_minor": 2
}
