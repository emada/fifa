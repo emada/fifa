{
 "cells": [
  {
   "cell_type": "markdown",
   "metadata": {},
   "source": [
    "Team mates:\n",
    "\n",
    "    Emerson Lopes Machado\n",
    "    bmi.machado@gmail.com\n",
    "\n",
    "    Eric Nesi\n",
    "    nesi.eric@gmail.com\n",
    "\n",
    "    Tom Croshaw\n",
    "    tom.croshaw@gmail.com\n",
    "\n",
    "    Greg Carrigan\n",
    "    gregcarrigan@hotmail.com "
   ]
  },
  {
   "cell_type": "markdown",
   "metadata": {},
   "source": [
    "# Team FIFA\n",
    "\n",
    "---\n",
    "\n",
    "You are working for an advertising analytics consulting company.  Your client, a name brand television network, needs help deciding how to re-formulate the pricing structure for new customers, but also incentivize existing clients to convert to new partnerships sponsors for teams and players.\n",
    "\n",
    "**Goals:**\n",
    "- Determine a reasonable metric to decide how exciting a game is\n",
    "    - Engineer this feature using existing data\n",
    "- Suggest a pricing structure tied to the overall value associated with \"game excitement\"\n",
    "\n",
    "**Presentation requirements:**\n",
    "- At least 50% of presentation must address a non-technical audience\n",
    "- Someone who hasn't presented in class yet must take lead on presentation"
   ]
  },
  {
   "cell_type": "code",
   "execution_count": 87,
   "metadata": {
    "collapsed": true
   },
   "outputs": [],
   "source": [
    "import pandas as pd\n",
    "import numpy as np\n",
    "import seaborn as sns\n",
    "\n",
    "%matplotlib inline\n",
    "\n",
    "df = pd.read_csv(\"./datasets/fifa_goals.csv\")"
   ]
  },
  {
   "cell_type": "code",
   "execution_count": 88,
   "metadata": {
    "collapsed": false
   },
   "outputs": [
    {
     "data": {
      "text/html": [
       "<div>\n",
       "<table border=\"1\" class=\"dataframe\">\n",
       "  <thead>\n",
       "    <tr style=\"text-align: right;\">\n",
       "      <th></th>\n",
       "      <th>game_id</th>\n",
       "      <th>minute</th>\n",
       "      <th>player</th>\n",
       "      <th>team1score</th>\n",
       "      <th>team2score</th>\n",
       "    </tr>\n",
       "  </thead>\n",
       "  <tbody>\n",
       "    <tr>\n",
       "      <th>0</th>\n",
       "      <td>1</td>\n",
       "      <td>18</td>\n",
       "      <td>Schiavio</td>\n",
       "      <td>1</td>\n",
       "      <td>0</td>\n",
       "    </tr>\n",
       "    <tr>\n",
       "      <th>1</th>\n",
       "      <td>1</td>\n",
       "      <td>20</td>\n",
       "      <td>Orsi</td>\n",
       "      <td>2</td>\n",
       "      <td>0</td>\n",
       "    </tr>\n",
       "    <tr>\n",
       "      <th>2</th>\n",
       "      <td>1</td>\n",
       "      <td>29</td>\n",
       "      <td>Schiavio</td>\n",
       "      <td>3</td>\n",
       "      <td>0</td>\n",
       "    </tr>\n",
       "    <tr>\n",
       "      <th>3</th>\n",
       "      <td>1</td>\n",
       "      <td>57</td>\n",
       "      <td>Donelli</td>\n",
       "      <td>3</td>\n",
       "      <td>1</td>\n",
       "    </tr>\n",
       "    <tr>\n",
       "      <th>4</th>\n",
       "      <td>1</td>\n",
       "      <td>63</td>\n",
       "      <td>Ferrari</td>\n",
       "      <td>4</td>\n",
       "      <td>1</td>\n",
       "    </tr>\n",
       "  </tbody>\n",
       "</table>\n",
       "</div>"
      ],
      "text/plain": [
       "   game_id minute    player  team1score  team2score\n",
       "0        1     18  Schiavio           1           0\n",
       "1        1     20      Orsi           2           0\n",
       "2        1     29  Schiavio           3           0\n",
       "3        1     57   Donelli           3           1\n",
       "4        1     63   Ferrari           4           1"
      ]
     },
     "execution_count": 88,
     "metadata": {},
     "output_type": "execute_result"
    }
   ],
   "source": [
    "df.head()"
   ]
  },
  {
   "cell_type": "code",
   "execution_count": 89,
   "metadata": {
    "collapsed": false
   },
   "outputs": [
    {
     "name": "stdout",
     "output_type": "stream",
     "text": [
      "<class 'pandas.core.frame.DataFrame'>\n",
      "RangeIndex: 2207 entries, 0 to 2206\n",
      "Data columns (total 5 columns):\n",
      "game_id       2207 non-null int64\n",
      "minute        2207 non-null object\n",
      "player        2207 non-null object\n",
      "team1score    2207 non-null int64\n",
      "team2score    2207 non-null int64\n",
      "dtypes: int64(3), object(2)\n",
      "memory usage: 86.3+ KB\n"
     ]
    }
   ],
   "source": [
    "df.info()"
   ]
  },
  {
   "cell_type": "code",
   "execution_count": 90,
   "metadata": {
    "collapsed": false
   },
   "outputs": [],
   "source": [
    "# Some cleanup\n",
    "if df.minute.dtype != 'int64':\n",
    "    df.loc[df.minute == '45+', 'minute'] = 45\n",
    "    df.loc[df.minute == '90+', 'minute'] = 90\n",
    "    df.loc[df.minute == '120+', 'minute'] = 121\n",
    "    df.minute = pd.to_numeric(df.minute)"
   ]
  },
  {
   "cell_type": "code",
   "execution_count": 91,
   "metadata": {
    "collapsed": true
   },
   "outputs": [],
   "source": [
    "# Feature engineering\n",
    "\n",
    "df['half'] = [1 if m <= 45 else 2 if m > 45 and m <= 90 else 3 for m in df.minute]\n",
    "df['minute_half'] = df.minute - (df.half - 1) * 45\n",
    "\n",
    "# The lower the goal difference is the more exciting is the match\n",
    "goal_diff = np.abs(df.team1score - df.team2score)\n",
    "df['excitement_per_goal'] = 1 / (goal_diff + 1)\n",
    "\n",
    "# The higher the minute inside a half is the more exciting is the match\n",
    "# Note that we give a very heavy weight to the time the goal is scored\n",
    "# using the exponential function\n",
    "df.excitement_per_goal =  df.excitement_per_goal * np.exp(df.minute_half/45)\n",
    "\n",
    "# The excitement increases as the halfs go by\n",
    "df.excitement_per_goal = df.excitement_per_goal * df.half\n",
    "\n",
    "df_exct = df.groupby(df.game_id)"
   ]
  },
  {
   "cell_type": "markdown",
   "metadata": {},
   "source": [
    "Let's see how our excitement factor is distributed when summed for each match."
   ]
  },
  {
   "cell_type": "code",
   "execution_count": 92,
   "metadata": {
    "collapsed": false
   },
   "outputs": [
    {
     "data": {
      "image/png": "[encoded data removed]",
      "text/plain": [
       "<matplotlib.figure.Figure at 0x119831390>"
      ]
     },
     "metadata": {},
     "output_type": "display_data"
    }
   ],
   "source": [
    "df_exct_total = df_exct.excitement_per_goal.sum()\n",
    "sns.distplot(df_exct_total, kde=False);"
   ]
  },
  {
   "cell_type": "markdown",
   "metadata": {
    "collapsed": false
   },
   "source": [
    "Interesting to see that the distribution is left skewed, which means that most of mathes are boring :)"
   ]
  },
  {
   "cell_type": "markdown",
   "metadata": {},
   "source": [
    "### Most Exciting Match\n",
    "\n",
    "Let's take a quick look through the best match. Check how each goal marked by both teams have different excitement level."
   ]
  },
  {
   "cell_type": "code",
   "execution_count": 93,
   "metadata": {
    "collapsed": false
   },
   "outputs": [
    {
     "data": {
      "text/html": [
       "<div>\n",
       "<table border=\"1\" class=\"dataframe\">\n",
       "  <thead>\n",
       "    <tr style=\"text-align: right;\">\n",
       "      <th></th>\n",
       "      <th>team1score</th>\n",
       "      <th>team2score</th>\n",
       "      <th>minute</th>\n",
       "      <th>excitement_per_goal</th>\n",
       "    </tr>\n",
       "  </thead>\n",
       "  <tbody>\n",
       "    <tr>\n",
       "      <th>654</th>\n",
       "      <td>1</td>\n",
       "      <td>0</td>\n",
       "      <td>18</td>\n",
       "      <td>0.745912</td>\n",
       "    </tr>\n",
       "    <tr>\n",
       "      <th>655</th>\n",
       "      <td>1</td>\n",
       "      <td>1</td>\n",
       "      <td>23</td>\n",
       "      <td>1.667143</td>\n",
       "    </tr>\n",
       "    <tr>\n",
       "      <th>656</th>\n",
       "      <td>2</td>\n",
       "      <td>1</td>\n",
       "      <td>25</td>\n",
       "      <td>0.871454</td>\n",
       "    </tr>\n",
       "    <tr>\n",
       "      <th>657</th>\n",
       "      <td>3</td>\n",
       "      <td>1</td>\n",
       "      <td>44</td>\n",
       "      <td>0.886181</td>\n",
       "    </tr>\n",
       "    <tr>\n",
       "      <th>658</th>\n",
       "      <td>3</td>\n",
       "      <td>2</td>\n",
       "      <td>53</td>\n",
       "      <td>1.194560</td>\n",
       "    </tr>\n",
       "    <tr>\n",
       "      <th>659</th>\n",
       "      <td>3</td>\n",
       "      <td>3</td>\n",
       "      <td>59</td>\n",
       "      <td>2.729882</td>\n",
       "    </tr>\n",
       "    <tr>\n",
       "      <th>660</th>\n",
       "      <td>4</td>\n",
       "      <td>3</td>\n",
       "      <td>71</td>\n",
       "      <td>1.782074</td>\n",
       "    </tr>\n",
       "    <tr>\n",
       "      <th>661</th>\n",
       "      <td>4</td>\n",
       "      <td>4</td>\n",
       "      <td>89</td>\n",
       "      <td>5.317084</td>\n",
       "    </tr>\n",
       "    <tr>\n",
       "      <th>662</th>\n",
       "      <td>5</td>\n",
       "      <td>4</td>\n",
       "      <td>93</td>\n",
       "      <td>1.603409</td>\n",
       "    </tr>\n",
       "    <tr>\n",
       "      <th>663</th>\n",
       "      <td>6</td>\n",
       "      <td>4</td>\n",
       "      <td>104</td>\n",
       "      <td>1.364941</td>\n",
       "    </tr>\n",
       "    <tr>\n",
       "      <th>664</th>\n",
       "      <td>6</td>\n",
       "      <td>5</td>\n",
       "      <td>118</td>\n",
       "      <td>2.794595</td>\n",
       "    </tr>\n",
       "  </tbody>\n",
       "</table>\n",
       "</div>"
      ],
      "text/plain": [
       "     team1score  team2score  minute  excitement_per_goal\n",
       "654           1           0      18             0.745912\n",
       "655           1           1      23             1.667143\n",
       "656           2           1      25             0.871454\n",
       "657           3           1      44             0.886181\n",
       "658           3           2      53             1.194560\n",
       "659           3           3      59             2.729882\n",
       "660           4           3      71             1.782074\n",
       "661           4           4      89             5.317084\n",
       "662           5           4      93             1.603409\n",
       "663           6           4     104             1.364941\n",
       "664           6           5     118             2.794595"
      ]
     },
     "execution_count": 93,
     "metadata": {},
     "output_type": "execute_result"
    }
   ],
   "source": [
    "best_goals_ids = df_exct.excitement_per_goal.sum().sort_values(ascending=False).index\n",
    "best_match_columns = ['team1score', 'team2score', 'minute', 'excitement_per_goal']\n",
    "df[df.game_id == best_goals_ids[0]][best_match_columns]"
   ]
  },
  {
   "cell_type": "markdown",
   "metadata": {},
   "source": [
    "### Most Boring Match"
   ]
  },
  {
   "cell_type": "code",
   "execution_count": 94,
   "metadata": {
    "collapsed": false,
    "scrolled": true
   },
   "outputs": [
    {
     "data": {
      "text/html": [
       "<div>\n",
       "<table border=\"1\" class=\"dataframe\">\n",
       "  <thead>\n",
       "    <tr style=\"text-align: right;\">\n",
       "      <th></th>\n",
       "      <th>team1score</th>\n",
       "      <th>team2score</th>\n",
       "      <th>minute</th>\n",
       "      <th>excitement_per_goal</th>\n",
       "    </tr>\n",
       "  </thead>\n",
       "  <tbody>\n",
       "    <tr>\n",
       "      <th>1341</th>\n",
       "      <td>1</td>\n",
       "      <td>0</td>\n",
       "      <td>3</td>\n",
       "      <td>0.53447</td>\n",
       "    </tr>\n",
       "  </tbody>\n",
       "</table>\n",
       "</div>"
      ],
      "text/plain": [
       "      team1score  team2score  minute  excitement_per_goal\n",
       "1341           1           0       3              0.53447"
      ]
     },
     "execution_count": 94,
     "metadata": {},
     "output_type": "execute_result"
    }
   ],
   "source": [
    "df[df.game_id == best_goals_ids[-1]][best_match_columns]"
   ]
  },
  {
   "cell_type": "markdown",
   "metadata": {},
   "source": [
    "Interesting! Using our excitement factor we discovered that the worst match had only one goal at the beginning of the match (3 minutes). What a boring match!!!"
   ]
  },
  {
   "cell_type": "markdown",
   "metadata": {},
   "source": [
    "### How to Charge New Customers\n",
    "\n",
    "Now let's take a look at the players with the highest sum of excitement factor. This can be used as a determining factor to a pricing structure charged by the television network for new customers.\n",
    "\n",
    "Overall, we propose that the amount charged by the tv network should be based on the sum of the excitement factor of all players in a specific match."
   ]
  },
  {
   "cell_type": "code",
   "execution_count": 95,
   "metadata": {
    "collapsed": false
   },
   "outputs": [
    {
     "data": {
      "text/plain": [
       "player\n",
       "MÃ¼ller       27.352201\n",
       "Seeler        19.285283\n",
       "Fontaine      16.720669\n",
       "Ronaldo       16.536395\n",
       "Rahn          16.184527\n",
       "Klose         15.139057\n",
       "Klinsmann     13.885234\n",
       "LeÃ´nidas     13.020483\n",
       "HernÃ¡ndez    12.686314\n",
       "Lato          12.581007\n",
       "Name: excitement_per_goal, dtype: float64"
      ]
     },
     "execution_count": 95,
     "metadata": {},
     "output_type": "execute_result"
    }
   ],
   "source": [
    "players_exciting_factor = df.groupby(df.player).excitement_per_goal.sum()\n",
    "players_exciting_factor = players_exciting_factor.sort_values(ascending=False).head(10)\n",
    "\n",
    "players_exciting_factor"
   ]
  }
 ],
 "metadata": {
  "kernelspec": {
   "display_name": "Python 2",
   "language": "python",
   "name": "python2"
  },
  "language_info": {
   "codemirror_mode": {
    "name": "ipython",
    "version": 2
   },
   "file_extension": ".py",
   "mimetype": "text/x-python",
   "name": "python",
   "nbconvert_exporter": "python",
   "pygments_lexer": "ipython2",
   "version": "2.7.13"
  }
 },
 "nbformat": 4,
 "nbformat_minor": 2
}
